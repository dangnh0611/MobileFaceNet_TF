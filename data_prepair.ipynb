{
 "cells": [
  {
   "cell_type": "code",
   "execution_count": 2,
   "metadata": {
    "colab": {
     "base_uri": "https://localhost:8080/"
    },
    "executionInfo": {
     "elapsed": 17009,
     "status": "ok",
     "timestamp": 1607942063333,
     "user": {
      "displayName": "Đăng Nguyễn Hồng",
      "photoUrl": "",
      "userId": "08786924972880621481"
     },
     "user_tz": -420
    },
    "id": "DgAOsIM74X2p",
    "outputId": "f52a0ac8-1675-4f63-8e4f-2d8f71db9beb"
   },
   "outputs": [
    {
     "name": "stdout",
     "output_type": "stream",
     "text": [
      "Mounted at /content/drive\n"
     ]
    }
   ],
   "source": [
    "from google.colab import drive\n",
    "drive.mount('/content/drive')"
   ]
  },
  {
   "cell_type": "code",
   "execution_count": 3,
   "metadata": {
    "colab": {
     "base_uri": "https://localhost:8080/"
    },
    "executionInfo": {
     "elapsed": 1046,
     "status": "ok",
     "timestamp": 1607942065697,
     "user": {
      "displayName": "Đăng Nguyễn Hồng",
      "photoUrl": "",
      "userId": "08786924972880621481"
     },
     "user_tz": -420
    },
    "id": "t4MPWqOv4rz4",
    "outputId": "31b6573d-ca17-410b-e17f-31c062bad3df"
   },
   "outputs": [
    {
     "name": "stdout",
     "output_type": "stream",
     "text": [
      "/content/drive/My Drive/face/MobileFaceNet\n"
     ]
    }
   ],
   "source": [
    "cd drive/'My Drive'/face/MobileFaceNet"
   ]
  },
  {
   "cell_type": "code",
   "execution_count": 4,
   "metadata": {
    "colab": {
     "base_uri": "https://localhost:8080/"
    },
    "executionInfo": {
     "elapsed": 1730,
     "status": "ok",
     "timestamp": 1607942066995,
     "user": {
      "displayName": "Đăng Nguyễn Hồng",
      "photoUrl": "",
      "userId": "08786924972880621481"
     },
     "user_tz": -420
    },
    "id": "R160EUfA9h0E",
    "outputId": "1ac058e2-2c2e-48f5-8fca-93d67f30c3f7"
   },
   "outputs": [
    {
     "name": "stdout",
     "output_type": "stream",
     "text": [
      "TensorFlow 1.x selected.\n"
     ]
    }
   ],
   "source": [
    "%tensorflow_version 1.x"
   ]
  },
  {
   "cell_type": "code",
   "execution_count": 5,
   "metadata": {
    "colab": {
     "base_uri": "https://localhost:8080/"
    },
    "executionInfo": {
     "elapsed": 12465,
     "status": "ok",
     "timestamp": 1607942078297,
     "user": {
      "displayName": "Đăng Nguyễn Hồng",
      "photoUrl": "",
      "userId": "08786924972880621481"
     },
     "user_tz": -420
    },
    "id": "B--Zu0lF4_pL",
    "outputId": "8b3d1b55-5ce2-47ba-9256-dbfad45ba1e9"
   },
   "outputs": [
    {
     "name": "stdout",
     "output_type": "stream",
     "text": [
      "Requirement already satisfied: opencv-python in /usr/local/lib/python3.6/dist-packages (from -r requirements.txt (line 2)) (4.1.2.30)\n",
      "Requirement already satisfied: scipy in /usr/local/lib/python3.6/dist-packages (from -r requirements.txt (line 3)) (1.4.1)\n",
      "Requirement already satisfied: sklearn in /usr/local/lib/python3.6/dist-packages (from -r requirements.txt (line 4)) (0.0)\n",
      "Requirement already satisfied: numpy in /usr/local/lib/python3.6/dist-packages (from -r requirements.txt (line 5)) (1.18.5)\n",
      "Collecting mxnet\n",
      "\u001b[?25l  Downloading https://files.pythonhosted.org/packages/29/bb/54cbabe428351c06d10903c658878d29ee7026efbe45133fd133598d6eb6/mxnet-1.7.0.post1-py2.py3-none-manylinux2014_x86_64.whl (55.0MB)\n",
      "\u001b[K     |████████████████████████████████| 55.0MB 121kB/s \n",
      "\u001b[?25hRequirement already satisfied: scikit-learn in /usr/local/lib/python3.6/dist-packages (from sklearn->-r requirements.txt (line 4)) (0.22.2.post1)\n",
      "Collecting graphviz<0.9.0,>=0.8.1\n",
      "  Downloading https://files.pythonhosted.org/packages/53/39/4ab213673844e0c004bed8a0781a0721a3f6bb23eb8854ee75c236428892/graphviz-0.8.4-py2.py3-none-any.whl\n",
      "Requirement already satisfied: requests<3,>=2.20.0 in /usr/local/lib/python3.6/dist-packages (from mxnet->-r requirements.txt (line 6)) (2.23.0)\n",
      "Requirement already satisfied: joblib>=0.11 in /usr/local/lib/python3.6/dist-packages (from scikit-learn->sklearn->-r requirements.txt (line 4)) (0.17.0)\n",
      "Requirement already satisfied: idna<3,>=2.5 in /usr/local/lib/python3.6/dist-packages (from requests<3,>=2.20.0->mxnet->-r requirements.txt (line 6)) (2.10)\n",
      "Requirement already satisfied: urllib3!=1.25.0,!=1.25.1,<1.26,>=1.21.1 in /usr/local/lib/python3.6/dist-packages (from requests<3,>=2.20.0->mxnet->-r requirements.txt (line 6)) (1.24.3)\n",
      "Requirement already satisfied: chardet<4,>=3.0.2 in /usr/local/lib/python3.6/dist-packages (from requests<3,>=2.20.0->mxnet->-r requirements.txt (line 6)) (3.0.4)\n",
      "Requirement already satisfied: certifi>=2017.4.17 in /usr/local/lib/python3.6/dist-packages (from requests<3,>=2.20.0->mxnet->-r requirements.txt (line 6)) (2020.12.5)\n",
      "Installing collected packages: graphviz, mxnet\n",
      "  Found existing installation: graphviz 0.10.1\n",
      "    Uninstalling graphviz-0.10.1:\n",
      "      Successfully uninstalled graphviz-0.10.1\n",
      "Successfully installed graphviz-0.8.4 mxnet-1.7.0.post1\n"
     ]
    }
   ],
   "source": [
    "!pip3 install -r requirements.txt"
   ]
  },
  {
   "cell_type": "code",
   "execution_count": 6,
   "metadata": {
    "colab": {
     "base_uri": "https://localhost:8080/"
    },
    "executionInfo": {
     "elapsed": 14543,
     "status": "ok",
     "timestamp": 1607942081399,
     "user": {
      "displayName": "Đăng Nguyễn Hồng",
      "photoUrl": "",
      "userId": "08786924972880621481"
     },
     "user_tz": -420
    },
    "id": "2fAL646W8G8E",
    "outputId": "c6c2b534-f248-48bf-9ee4-22bb2dd83758"
   },
   "outputs": [
    {
     "name": "stdout",
     "output_type": "stream",
     "text": [
      "1.15.2\n"
     ]
    }
   ],
   "source": [
    "import tensorflow as tf\n",
    "print(tf.__version__)"
   ]
  },
  {
   "cell_type": "code",
   "execution_count": 8,
   "metadata": {
    "colab": {
     "base_uri": "https://localhost:8080/"
    },
    "executionInfo": {
     "elapsed": 2068,
     "status": "ok",
     "timestamp": 1607942084581,
     "user": {
      "displayName": "Đăng Nguyễn Hồng",
      "photoUrl": "",
      "userId": "08786924972880621481"
     },
     "user_tz": -420
    },
    "id": "DdpLc2M1-22n",
    "outputId": "c74bf407-2995-4783-96a3-549b3f3af529"
   },
   "outputs": [
    {
     "name": "stdout",
     "output_type": "stream",
     "text": [
      "Archive:  datasets/zips/faces_ms1m-refine-v2_112x112.zip\n"
     ]
    }
   ],
   "source": [
    "!unzip datasets/zips/faces_ms1m-refine-v2_112x112.zip -d datasets/ms1m_v2/"
   ]
  },
  {
   "cell_type": "code",
   "execution_count": null,
   "metadata": {
    "colab": {
     "base_uri": "https://localhost:8080/"
    },
    "executionInfo": {
     "elapsed": 24129,
     "status": "ok",
     "timestamp": 1607942978421,
     "user": {
      "displayName": "Đăng Nguyễn Hồng",
      "photoUrl": "",
      "userId": "08786924972880621481"
     },
     "user_tz": -420
    },
    "id": "v_EYQ0TK8bUn",
    "outputId": "45b609f9-b241-419c-a138-67e2af9cec08"
   },
   "outputs": [],
   "source": [
    "!python3 utils/data_process.py --bin_path=./datasets/ms1m_v2/faces_emore/train.rec \\\n",
    "--idx_path=./datasets/ms1m_v2/faces_emore/train.idx \\\n",
    "--tfrecords_file_path=./datasets/ms1m_v2/tfrecords"
   ]
  }
 ],
 "metadata": {
  "colab": {
   "authorship_tag": "ABX9TyO5YTxfVkImYlxjWEPvwR18",
   "name": "data_prepair.ipynb",
   "provenance": []
  },
  "kernelspec": {
   "display_name": "Python 3",
   "language": "python",
   "name": "python3"
  }
 },
 "nbformat": 4,
 "nbformat_minor": 1
}
